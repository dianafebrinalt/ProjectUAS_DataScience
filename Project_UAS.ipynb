{
  "nbformat": 4,
  "nbformat_minor": 0,
  "metadata": {
    "colab": {
      "provenance": [],
      "include_colab_link": true
    },
    "kernelspec": {
      "name": "python3",
      "display_name": "Python 3"
    },
    "language_info": {
      "name": "python"
    }
  },
  "cells": [
    {
      "cell_type": "markdown",
      "metadata": {
        "id": "view-in-github",
        "colab_type": "text"
      },
      "source": [
        "<a href=\"https://colab.research.google.com/github/dianafebrinalt/ProjectUAS_DataScience/blob/main/Project_UAS.ipynb\" target=\"_parent\"><img src=\"https://colab.research.google.com/assets/colab-badge.svg\" alt=\"Open In Colab\"/></a>"
      ]
    },
    {
      "cell_type": "code",
      "execution_count": null,
      "metadata": {
        "id": "n5CgEgTgILMU"
      },
      "outputs": [],
      "source": [
        "import pandas as pd\n",
        "import numpy as np\n",
        "import matplotlib.pyplot as plt\n",
        "import seaborn as sns"
      ]
    },
    {
      "cell_type": "markdown",
      "source": [
        "\n",
        "\n",
        "```\n",
        "# This is formatted as code\n",
        "```\n",
        "\n",
        "## **DATA ACQUISITION**"
      ],
      "metadata": {
        "id": "b5xXcVDUI67B"
      }
    },
    {
      "cell_type": "code",
      "source": [
        "#PENGAMBILAN DATA DARI GOOGLE DRIVE\n",
        "df=pd.read_csv(r'/content/drive/MyDrive/DATA SCIENCE - UAS KELOMPOK/heart_failure_clinical_records_dataset.csv')\n",
        "df.head(100) #Ket: Ini untuk melihat data dari awal dan ditampilkan sebanyak 100"
      ],
      "metadata": {
        "id": "PzbybTgeIuBh"
      },
      "execution_count": null,
      "outputs": []
    },
    {
      "cell_type": "code",
      "source": [
        "df.tail(100) #Ket : Ini untuk melihat data dari bawah ke atas dan ditampilkan sebanyak 100"
      ],
      "metadata": {
        "colab": {
          "base_uri": "https://localhost:8080/",
          "height": 483
        },
        "id": "LX7SOODi5ZvM",
        "outputId": "6f0e8557-cbb7-4673-87b4-5cdfa4c6607d"
      },
      "execution_count": null,
      "outputs": [
        {
          "output_type": "execute_result",
          "data": {
            "text/plain": [
              "      age  anaemia  creatinine_phosphokinase  diabetes  ejection_fraction  \\\n",
              "199  60.0        0                      1211         1                 35   \n",
              "200  63.0        1                      1767         0                 45   \n",
              "201  45.0        0                       308         1                 60   \n",
              "202  70.0        0                        97         0                 60   \n",
              "203  60.0        0                        59         0                 25   \n",
              "..    ...      ...                       ...       ...                ...   \n",
              "294  62.0        0                        61         1                 38   \n",
              "295  55.0        0                      1820         0                 38   \n",
              "296  45.0        0                      2060         1                 60   \n",
              "297  45.0        0                      2413         0                 38   \n",
              "298  50.0        0                       196         0                 45   \n",
              "\n",
              "     high_blood_pressure  platelets  serum_creatinine  serum_sodium  sex  \\\n",
              "199                    0  263358.03               1.8           113    1   \n",
              "200                    0   73000.00               0.7           137    1   \n",
              "201                    1  377000.00               1.0           136    1   \n",
              "202                    1  220000.00               0.9           138    1   \n",
              "203                    1  212000.00               3.5           136    1   \n",
              "..                   ...        ...               ...           ...  ...   \n",
              "294                    1  155000.00               1.1           143    1   \n",
              "295                    0  270000.00               1.2           139    0   \n",
              "296                    0  742000.00               0.8           138    0   \n",
              "297                    0  140000.00               1.4           140    1   \n",
              "298                    0  395000.00               1.6           136    1   \n",
              "\n",
              "     smoking  time  DEATH_EVENT  \n",
              "199        1   186            0  \n",
              "200        0   186            0  \n",
              "201        0   186            0  \n",
              "202        0   186            0  \n",
              "203        1   187            0  \n",
              "..       ...   ...          ...  \n",
              "294        1   270            0  \n",
              "295        0   271            0  \n",
              "296        0   278            0  \n",
              "297        1   280            0  \n",
              "298        1   285            0  \n",
              "\n",
              "[100 rows x 13 columns]"
            ],
            "text/html": [
              "\n",
              "  <div id=\"df-32e82b4b-a388-4ba6-8983-f1b5759733f7\">\n",
              "    <div class=\"colab-df-container\">\n",
              "      <div>\n",
              "<style scoped>\n",
              "    .dataframe tbody tr th:only-of-type {\n",
              "        vertical-align: middle;\n",
              "    }\n",
              "\n",
              "    .dataframe tbody tr th {\n",
              "        vertical-align: top;\n",
              "    }\n",
              "\n",
              "    .dataframe thead th {\n",
              "        text-align: right;\n",
              "    }\n",
              "</style>\n",
              "<table border=\"1\" class=\"dataframe\">\n",
              "  <thead>\n",
              "    <tr style=\"text-align: right;\">\n",
              "      <th></th>\n",
              "      <th>age</th>\n",
              "      <th>anaemia</th>\n",
              "      <th>creatinine_phosphokinase</th>\n",
              "      <th>diabetes</th>\n",
              "      <th>ejection_fraction</th>\n",
              "      <th>high_blood_pressure</th>\n",
              "      <th>platelets</th>\n",
              "      <th>serum_creatinine</th>\n",
              "      <th>serum_sodium</th>\n",
              "      <th>sex</th>\n",
              "      <th>smoking</th>\n",
              "      <th>time</th>\n",
              "      <th>DEATH_EVENT</th>\n",
              "    </tr>\n",
              "  </thead>\n",
              "  <tbody>\n",
              "    <tr>\n",
              "      <th>199</th>\n",
              "      <td>60.0</td>\n",
              "      <td>0</td>\n",
              "      <td>1211</td>\n",
              "      <td>1</td>\n",
              "      <td>35</td>\n",
              "      <td>0</td>\n",
              "      <td>263358.03</td>\n",
              "      <td>1.8</td>\n",
              "      <td>113</td>\n",
              "      <td>1</td>\n",
              "      <td>1</td>\n",
              "      <td>186</td>\n",
              "      <td>0</td>\n",
              "    </tr>\n",
              "    <tr>\n",
              "      <th>200</th>\n",
              "      <td>63.0</td>\n",
              "      <td>1</td>\n",
              "      <td>1767</td>\n",
              "      <td>0</td>\n",
              "      <td>45</td>\n",
              "      <td>0</td>\n",
              "      <td>73000.00</td>\n",
              "      <td>0.7</td>\n",
              "      <td>137</td>\n",
              "      <td>1</td>\n",
              "      <td>0</td>\n",
              "      <td>186</td>\n",
              "      <td>0</td>\n",
              "    </tr>\n",
              "    <tr>\n",
              "      <th>201</th>\n",
              "      <td>45.0</td>\n",
              "      <td>0</td>\n",
              "      <td>308</td>\n",
              "      <td>1</td>\n",
              "      <td>60</td>\n",
              "      <td>1</td>\n",
              "      <td>377000.00</td>\n",
              "      <td>1.0</td>\n",
              "      <td>136</td>\n",
              "      <td>1</td>\n",
              "      <td>0</td>\n",
              "      <td>186</td>\n",
              "      <td>0</td>\n",
              "    </tr>\n",
              "    <tr>\n",
              "      <th>202</th>\n",
              "      <td>70.0</td>\n",
              "      <td>0</td>\n",
              "      <td>97</td>\n",
              "      <td>0</td>\n",
              "      <td>60</td>\n",
              "      <td>1</td>\n",
              "      <td>220000.00</td>\n",
              "      <td>0.9</td>\n",
              "      <td>138</td>\n",
              "      <td>1</td>\n",
              "      <td>0</td>\n",
              "      <td>186</td>\n",
              "      <td>0</td>\n",
              "    </tr>\n",
              "    <tr>\n",
              "      <th>203</th>\n",
              "      <td>60.0</td>\n",
              "      <td>0</td>\n",
              "      <td>59</td>\n",
              "      <td>0</td>\n",
              "      <td>25</td>\n",
              "      <td>1</td>\n",
              "      <td>212000.00</td>\n",
              "      <td>3.5</td>\n",
              "      <td>136</td>\n",
              "      <td>1</td>\n",
              "      <td>1</td>\n",
              "      <td>187</td>\n",
              "      <td>0</td>\n",
              "    </tr>\n",
              "    <tr>\n",
              "      <th>...</th>\n",
              "      <td>...</td>\n",
              "      <td>...</td>\n",
              "      <td>...</td>\n",
              "      <td>...</td>\n",
              "      <td>...</td>\n",
              "      <td>...</td>\n",
              "      <td>...</td>\n",
              "      <td>...</td>\n",
              "      <td>...</td>\n",
              "      <td>...</td>\n",
              "      <td>...</td>\n",
              "      <td>...</td>\n",
              "      <td>...</td>\n",
              "    </tr>\n",
              "    <tr>\n",
              "      <th>294</th>\n",
              "      <td>62.0</td>\n",
              "      <td>0</td>\n",
              "      <td>61</td>\n",
              "      <td>1</td>\n",
              "      <td>38</td>\n",
              "      <td>1</td>\n",
              "      <td>155000.00</td>\n",
              "      <td>1.1</td>\n",
              "      <td>143</td>\n",
              "      <td>1</td>\n",
              "      <td>1</td>\n",
              "      <td>270</td>\n",
              "      <td>0</td>\n",
              "    </tr>\n",
              "    <tr>\n",
              "      <th>295</th>\n",
              "      <td>55.0</td>\n",
              "      <td>0</td>\n",
              "      <td>1820</td>\n",
              "      <td>0</td>\n",
              "      <td>38</td>\n",
              "      <td>0</td>\n",
              "      <td>270000.00</td>\n",
              "      <td>1.2</td>\n",
              "      <td>139</td>\n",
              "      <td>0</td>\n",
              "      <td>0</td>\n",
              "      <td>271</td>\n",
              "      <td>0</td>\n",
              "    </tr>\n",
              "    <tr>\n",
              "      <th>296</th>\n",
              "      <td>45.0</td>\n",
              "      <td>0</td>\n",
              "      <td>2060</td>\n",
              "      <td>1</td>\n",
              "      <td>60</td>\n",
              "      <td>0</td>\n",
              "      <td>742000.00</td>\n",
              "      <td>0.8</td>\n",
              "      <td>138</td>\n",
              "      <td>0</td>\n",
              "      <td>0</td>\n",
              "      <td>278</td>\n",
              "      <td>0</td>\n",
              "    </tr>\n",
              "    <tr>\n",
              "      <th>297</th>\n",
              "      <td>45.0</td>\n",
              "      <td>0</td>\n",
              "      <td>2413</td>\n",
              "      <td>0</td>\n",
              "      <td>38</td>\n",
              "      <td>0</td>\n",
              "      <td>140000.00</td>\n",
              "      <td>1.4</td>\n",
              "      <td>140</td>\n",
              "      <td>1</td>\n",
              "      <td>1</td>\n",
              "      <td>280</td>\n",
              "      <td>0</td>\n",
              "    </tr>\n",
              "    <tr>\n",
              "      <th>298</th>\n",
              "      <td>50.0</td>\n",
              "      <td>0</td>\n",
              "      <td>196</td>\n",
              "      <td>0</td>\n",
              "      <td>45</td>\n",
              "      <td>0</td>\n",
              "      <td>395000.00</td>\n",
              "      <td>1.6</td>\n",
              "      <td>136</td>\n",
              "      <td>1</td>\n",
              "      <td>1</td>\n",
              "      <td>285</td>\n",
              "      <td>0</td>\n",
              "    </tr>\n",
              "  </tbody>\n",
              "</table>\n",
              "<p>100 rows × 13 columns</p>\n",
              "</div>\n",
              "      <button class=\"colab-df-convert\" onclick=\"convertToInteractive('df-32e82b4b-a388-4ba6-8983-f1b5759733f7')\"\n",
              "              title=\"Convert this dataframe to an interactive table.\"\n",
              "              style=\"display:none;\">\n",
              "        \n",
              "  <svg xmlns=\"http://www.w3.org/2000/svg\" height=\"24px\"viewBox=\"0 0 24 24\"\n",
              "       width=\"24px\">\n",
              "    <path d=\"M0 0h24v24H0V0z\" fill=\"none\"/>\n",
              "    <path d=\"M18.56 5.44l.94 2.06.94-2.06 2.06-.94-2.06-.94-.94-2.06-.94 2.06-2.06.94zm-11 1L8.5 8.5l.94-2.06 2.06-.94-2.06-.94L8.5 2.5l-.94 2.06-2.06.94zm10 10l.94 2.06.94-2.06 2.06-.94-2.06-.94-.94-2.06-.94 2.06-2.06.94z\"/><path d=\"M17.41 7.96l-1.37-1.37c-.4-.4-.92-.59-1.43-.59-.52 0-1.04.2-1.43.59L10.3 9.45l-7.72 7.72c-.78.78-.78 2.05 0 2.83L4 21.41c.39.39.9.59 1.41.59.51 0 1.02-.2 1.41-.59l7.78-7.78 2.81-2.81c.8-.78.8-2.07 0-2.86zM5.41 20L4 18.59l7.72-7.72 1.47 1.35L5.41 20z\"/>\n",
              "  </svg>\n",
              "      </button>\n",
              "      \n",
              "  <style>\n",
              "    .colab-df-container {\n",
              "      display:flex;\n",
              "      flex-wrap:wrap;\n",
              "      gap: 12px;\n",
              "    }\n",
              "\n",
              "    .colab-df-convert {\n",
              "      background-color: #E8F0FE;\n",
              "      border: none;\n",
              "      border-radius: 50%;\n",
              "      cursor: pointer;\n",
              "      display: none;\n",
              "      fill: #1967D2;\n",
              "      height: 32px;\n",
              "      padding: 0 0 0 0;\n",
              "      width: 32px;\n",
              "    }\n",
              "\n",
              "    .colab-df-convert:hover {\n",
              "      background-color: #E2EBFA;\n",
              "      box-shadow: 0px 1px 2px rgba(60, 64, 67, 0.3), 0px 1px 3px 1px rgba(60, 64, 67, 0.15);\n",
              "      fill: #174EA6;\n",
              "    }\n",
              "\n",
              "    [theme=dark] .colab-df-convert {\n",
              "      background-color: #3B4455;\n",
              "      fill: #D2E3FC;\n",
              "    }\n",
              "\n",
              "    [theme=dark] .colab-df-convert:hover {\n",
              "      background-color: #434B5C;\n",
              "      box-shadow: 0px 1px 3px 1px rgba(0, 0, 0, 0.15);\n",
              "      filter: drop-shadow(0px 1px 2px rgba(0, 0, 0, 0.3));\n",
              "      fill: #FFFFFF;\n",
              "    }\n",
              "  </style>\n",
              "\n",
              "      <script>\n",
              "        const buttonEl =\n",
              "          document.querySelector('#df-32e82b4b-a388-4ba6-8983-f1b5759733f7 button.colab-df-convert');\n",
              "        buttonEl.style.display =\n",
              "          google.colab.kernel.accessAllowed ? 'block' : 'none';\n",
              "\n",
              "        async function convertToInteractive(key) {\n",
              "          const element = document.querySelector('#df-32e82b4b-a388-4ba6-8983-f1b5759733f7');\n",
              "          const dataTable =\n",
              "            await google.colab.kernel.invokeFunction('convertToInteractive',\n",
              "                                                     [key], {});\n",
              "          if (!dataTable) return;\n",
              "\n",
              "          const docLinkHtml = 'Like what you see? Visit the ' +\n",
              "            '<a target=\"_blank\" href=https://colab.research.google.com/notebooks/data_table.ipynb>data table notebook</a>'\n",
              "            + ' to learn more about interactive tables.';\n",
              "          element.innerHTML = '';\n",
              "          dataTable['output_type'] = 'display_data';\n",
              "          await google.colab.output.renderOutput(dataTable, element);\n",
              "          const docLink = document.createElement('div');\n",
              "          docLink.innerHTML = docLinkHtml;\n",
              "          element.appendChild(docLink);\n",
              "        }\n",
              "      </script>\n",
              "    </div>\n",
              "  </div>\n",
              "  "
            ]
          },
          "metadata": {},
          "execution_count": 41
        }
      ]
    },
    {
      "cell_type": "code",
      "source": [
        "#Ngecek tipe data tiap coloumn nya\n",
        "df.dtypes"
      ],
      "metadata": {
        "colab": {
          "base_uri": "https://localhost:8080/"
        },
        "id": "FLV56mSI5-BE",
        "outputId": "dc7f3bc4-23e8-4987-af02-bfabe27178a8"
      },
      "execution_count": null,
      "outputs": [
        {
          "output_type": "execute_result",
          "data": {
            "text/plain": [
              "age                         float64\n",
              "anaemia                       int64\n",
              "creatinine_phosphokinase      int64\n",
              "diabetes                      int64\n",
              "ejection_fraction             int64\n",
              "high_blood_pressure           int64\n",
              "platelets                   float64\n",
              "serum_creatinine            float64\n",
              "serum_sodium                  int64\n",
              "sex                           int64\n",
              "smoking                       int64\n",
              "time                          int64\n",
              "DEATH_EVENT                   int64\n",
              "dtype: object"
            ]
          },
          "metadata": {},
          "execution_count": 42
        }
      ]
    },
    {
      "cell_type": "code",
      "source": [
        "#Ngecek jumlah baris dan kolom pada dataset yang kita miliki\n",
        "print(\"Jumlah Baris dalam Dataset adalah: \", df.shape[0], \"baris\")\n",
        "print(\"Jumlah Kolom dalam Dataset adalah: \", df.shape[1], \"kolom\")"
      ],
      "metadata": {
        "colab": {
          "base_uri": "https://localhost:8080/"
        },
        "id": "GlTGlJHL6MYB",
        "outputId": "344fad28-0ab8-4e38-a8a8-d4ba55769fd6"
      },
      "execution_count": null,
      "outputs": [
        {
          "output_type": "stream",
          "name": "stdout",
          "text": [
            "Jumlah Baris dalam Dataset adalah:  299 baris\n",
            "Jumlah Kolom dalam Dataset adalah:  13 kolom\n"
          ]
        }
      ]
    },
    {
      "cell_type": "markdown",
      "source": [
        "## **DATA PREPARATION**"
      ],
      "metadata": {
        "id": "sKJOr6d-4880"
      }
    },
    {
      "cell_type": "markdown",
      "source": [
        "Karena pada nama kolom kita menggunakan bahasa inggris, dan salah satu bagian dari data preparation adalah mengubah nama kolom nya menggunakan bahasa yang bisa dimengerti oleh audience , oleh karenanya disini kita menggunakan bahasa indonesia yawwwwww. So berikut code nya :"
      ],
      "metadata": {
        "id": "CYW22TVo6XcZ"
      }
    },
    {
      "cell_type": "code",
      "source": [
        "# MENGGANTI NAMA KOLOM DARI BAHASA INGGRIS MENJADI INDONESIA\n",
        "df.rename(columns={'age'                           : 'Umur',\n",
        "                   'anaemia'                       : 'Anemia',\n",
        "                   'creatinine_phosphokinase'      : 'Kreatinin Kinase',\n",
        "                   'diabetes'                      : 'Diabetes',\n",
        "                   'ejection_fraction'             : 'Fraksi Ejeksi',\n",
        "                   'high_blood_pressure'           : 'Tekanan Darah Tinggi',\n",
        "                   'platelets'                     : 'Trombosit',\n",
        "                   'serum_creatinine'              : 'Kreatinin Serum',\n",
        "                   'serum_sodium'                  : 'Serum Sodium',\n",
        "                   'sex'                           : 'Jenis Kelamin',\n",
        "                   'smoking'                       : 'Merokok',\n",
        "                   'time'                          : 'Waktu',\n",
        "                   'DEATH_EVENT'                   : 'Kejadian Kematian'}, inplace=True)"
      ],
      "metadata": {
        "id": "HhX_Nb-U5Bjm"
      },
      "execution_count": null,
      "outputs": []
    },
    {
      "cell_type": "code",
      "source": [
        "#Kemudian di cek datanya yang nama kolomnya dah berubah tadi\n",
        "df.head()"
      ],
      "metadata": {
        "colab": {
          "base_uri": "https://localhost:8080/",
          "height": 265
        },
        "id": "MGa51Wg18mWe",
        "outputId": "eacaf227-c11d-4967-8f2c-2cf63a99d0c4"
      },
      "execution_count": null,
      "outputs": [
        {
          "output_type": "execute_result",
          "data": {
            "text/plain": [
              "   Umur  Anemia  Kreatinin Kinase  Diabetes  Fraksi Ejeksi  \\\n",
              "0  75.0       0               582         0             20   \n",
              "1  55.0       0              7861         0             38   \n",
              "2  65.0       0               146         0             20   \n",
              "3  50.0       1               111         0             20   \n",
              "4  65.0       1               160         1             20   \n",
              "\n",
              "   Tekanan Darah Tinggi  Trombosit  Kreatinin Serum  Serum Sodium  \\\n",
              "0                     1  265000.00              1.9           130   \n",
              "1                     0  263358.03              1.1           136   \n",
              "2                     0  162000.00              1.3           129   \n",
              "3                     0  210000.00              1.9           137   \n",
              "4                     0  327000.00              2.7           116   \n",
              "\n",
              "   Jenis Kelamin  Merokok  Waktu  Kejadian Kematian  \n",
              "0              1        0      4                  1  \n",
              "1              1        0      6                  1  \n",
              "2              1        1      7                  1  \n",
              "3              1        0      7                  1  \n",
              "4              0        0      8                  1  "
            ],
            "text/html": [
              "\n",
              "  <div id=\"df-ca221aa8-e64a-4d67-a8dd-5eeba3b6d9e9\">\n",
              "    <div class=\"colab-df-container\">\n",
              "      <div>\n",
              "<style scoped>\n",
              "    .dataframe tbody tr th:only-of-type {\n",
              "        vertical-align: middle;\n",
              "    }\n",
              "\n",
              "    .dataframe tbody tr th {\n",
              "        vertical-align: top;\n",
              "    }\n",
              "\n",
              "    .dataframe thead th {\n",
              "        text-align: right;\n",
              "    }\n",
              "</style>\n",
              "<table border=\"1\" class=\"dataframe\">\n",
              "  <thead>\n",
              "    <tr style=\"text-align: right;\">\n",
              "      <th></th>\n",
              "      <th>Umur</th>\n",
              "      <th>Anemia</th>\n",
              "      <th>Kreatinin Kinase</th>\n",
              "      <th>Diabetes</th>\n",
              "      <th>Fraksi Ejeksi</th>\n",
              "      <th>Tekanan Darah Tinggi</th>\n",
              "      <th>Trombosit</th>\n",
              "      <th>Kreatinin Serum</th>\n",
              "      <th>Serum Sodium</th>\n",
              "      <th>Jenis Kelamin</th>\n",
              "      <th>Merokok</th>\n",
              "      <th>Waktu</th>\n",
              "      <th>Kejadian Kematian</th>\n",
              "    </tr>\n",
              "  </thead>\n",
              "  <tbody>\n",
              "    <tr>\n",
              "      <th>0</th>\n",
              "      <td>75.0</td>\n",
              "      <td>0</td>\n",
              "      <td>582</td>\n",
              "      <td>0</td>\n",
              "      <td>20</td>\n",
              "      <td>1</td>\n",
              "      <td>265000.00</td>\n",
              "      <td>1.9</td>\n",
              "      <td>130</td>\n",
              "      <td>1</td>\n",
              "      <td>0</td>\n",
              "      <td>4</td>\n",
              "      <td>1</td>\n",
              "    </tr>\n",
              "    <tr>\n",
              "      <th>1</th>\n",
              "      <td>55.0</td>\n",
              "      <td>0</td>\n",
              "      <td>7861</td>\n",
              "      <td>0</td>\n",
              "      <td>38</td>\n",
              "      <td>0</td>\n",
              "      <td>263358.03</td>\n",
              "      <td>1.1</td>\n",
              "      <td>136</td>\n",
              "      <td>1</td>\n",
              "      <td>0</td>\n",
              "      <td>6</td>\n",
              "      <td>1</td>\n",
              "    </tr>\n",
              "    <tr>\n",
              "      <th>2</th>\n",
              "      <td>65.0</td>\n",
              "      <td>0</td>\n",
              "      <td>146</td>\n",
              "      <td>0</td>\n",
              "      <td>20</td>\n",
              "      <td>0</td>\n",
              "      <td>162000.00</td>\n",
              "      <td>1.3</td>\n",
              "      <td>129</td>\n",
              "      <td>1</td>\n",
              "      <td>1</td>\n",
              "      <td>7</td>\n",
              "      <td>1</td>\n",
              "    </tr>\n",
              "    <tr>\n",
              "      <th>3</th>\n",
              "      <td>50.0</td>\n",
              "      <td>1</td>\n",
              "      <td>111</td>\n",
              "      <td>0</td>\n",
              "      <td>20</td>\n",
              "      <td>0</td>\n",
              "      <td>210000.00</td>\n",
              "      <td>1.9</td>\n",
              "      <td>137</td>\n",
              "      <td>1</td>\n",
              "      <td>0</td>\n",
              "      <td>7</td>\n",
              "      <td>1</td>\n",
              "    </tr>\n",
              "    <tr>\n",
              "      <th>4</th>\n",
              "      <td>65.0</td>\n",
              "      <td>1</td>\n",
              "      <td>160</td>\n",
              "      <td>1</td>\n",
              "      <td>20</td>\n",
              "      <td>0</td>\n",
              "      <td>327000.00</td>\n",
              "      <td>2.7</td>\n",
              "      <td>116</td>\n",
              "      <td>0</td>\n",
              "      <td>0</td>\n",
              "      <td>8</td>\n",
              "      <td>1</td>\n",
              "    </tr>\n",
              "  </tbody>\n",
              "</table>\n",
              "</div>\n",
              "      <button class=\"colab-df-convert\" onclick=\"convertToInteractive('df-ca221aa8-e64a-4d67-a8dd-5eeba3b6d9e9')\"\n",
              "              title=\"Convert this dataframe to an interactive table.\"\n",
              "              style=\"display:none;\">\n",
              "        \n",
              "  <svg xmlns=\"http://www.w3.org/2000/svg\" height=\"24px\"viewBox=\"0 0 24 24\"\n",
              "       width=\"24px\">\n",
              "    <path d=\"M0 0h24v24H0V0z\" fill=\"none\"/>\n",
              "    <path d=\"M18.56 5.44l.94 2.06.94-2.06 2.06-.94-2.06-.94-.94-2.06-.94 2.06-2.06.94zm-11 1L8.5 8.5l.94-2.06 2.06-.94-2.06-.94L8.5 2.5l-.94 2.06-2.06.94zm10 10l.94 2.06.94-2.06 2.06-.94-2.06-.94-.94-2.06-.94 2.06-2.06.94z\"/><path d=\"M17.41 7.96l-1.37-1.37c-.4-.4-.92-.59-1.43-.59-.52 0-1.04.2-1.43.59L10.3 9.45l-7.72 7.72c-.78.78-.78 2.05 0 2.83L4 21.41c.39.39.9.59 1.41.59.51 0 1.02-.2 1.41-.59l7.78-7.78 2.81-2.81c.8-.78.8-2.07 0-2.86zM5.41 20L4 18.59l7.72-7.72 1.47 1.35L5.41 20z\"/>\n",
              "  </svg>\n",
              "      </button>\n",
              "      \n",
              "  <style>\n",
              "    .colab-df-container {\n",
              "      display:flex;\n",
              "      flex-wrap:wrap;\n",
              "      gap: 12px;\n",
              "    }\n",
              "\n",
              "    .colab-df-convert {\n",
              "      background-color: #E8F0FE;\n",
              "      border: none;\n",
              "      border-radius: 50%;\n",
              "      cursor: pointer;\n",
              "      display: none;\n",
              "      fill: #1967D2;\n",
              "      height: 32px;\n",
              "      padding: 0 0 0 0;\n",
              "      width: 32px;\n",
              "    }\n",
              "\n",
              "    .colab-df-convert:hover {\n",
              "      background-color: #E2EBFA;\n",
              "      box-shadow: 0px 1px 2px rgba(60, 64, 67, 0.3), 0px 1px 3px 1px rgba(60, 64, 67, 0.15);\n",
              "      fill: #174EA6;\n",
              "    }\n",
              "\n",
              "    [theme=dark] .colab-df-convert {\n",
              "      background-color: #3B4455;\n",
              "      fill: #D2E3FC;\n",
              "    }\n",
              "\n",
              "    [theme=dark] .colab-df-convert:hover {\n",
              "      background-color: #434B5C;\n",
              "      box-shadow: 0px 1px 3px 1px rgba(0, 0, 0, 0.15);\n",
              "      filter: drop-shadow(0px 1px 2px rgba(0, 0, 0, 0.3));\n",
              "      fill: #FFFFFF;\n",
              "    }\n",
              "  </style>\n",
              "\n",
              "      <script>\n",
              "        const buttonEl =\n",
              "          document.querySelector('#df-ca221aa8-e64a-4d67-a8dd-5eeba3b6d9e9 button.colab-df-convert');\n",
              "        buttonEl.style.display =\n",
              "          google.colab.kernel.accessAllowed ? 'block' : 'none';\n",
              "\n",
              "        async function convertToInteractive(key) {\n",
              "          const element = document.querySelector('#df-ca221aa8-e64a-4d67-a8dd-5eeba3b6d9e9');\n",
              "          const dataTable =\n",
              "            await google.colab.kernel.invokeFunction('convertToInteractive',\n",
              "                                                     [key], {});\n",
              "          if (!dataTable) return;\n",
              "\n",
              "          const docLinkHtml = 'Like what you see? Visit the ' +\n",
              "            '<a target=\"_blank\" href=https://colab.research.google.com/notebooks/data_table.ipynb>data table notebook</a>'\n",
              "            + ' to learn more about interactive tables.';\n",
              "          element.innerHTML = '';\n",
              "          dataTable['output_type'] = 'display_data';\n",
              "          await google.colab.output.renderOutput(dataTable, element);\n",
              "          const docLink = document.createElement('div');\n",
              "          docLink.innerHTML = docLinkHtml;\n",
              "          element.appendChild(docLink);\n",
              "        }\n",
              "      </script>\n",
              "    </div>\n",
              "  </div>\n",
              "  "
            ]
          },
          "metadata": {},
          "execution_count": 45
        }
      ]
    },
    {
      "cell_type": "markdown",
      "source": [
        "Okayyyy, nama kolom sudah berubahhh yey"
      ],
      "metadata": {
        "id": "oeANNqM08tcY"
      }
    },
    {
      "cell_type": "code",
      "source": [
        "#MENGUBAH TIPE DATA\n",
        "df['Umur']=df['Umur'].astype(int)\n",
        "df['Trombosit']=df['Trombosit'].astype(int)\n",
        "df['Kreatinin Serum']=df['Kreatinin Serum'].astype(int)\n",
        "\n",
        "df.info()"
      ],
      "metadata": {
        "colab": {
          "base_uri": "https://localhost:8080/"
        },
        "id": "VZWXzDenWIcO",
        "outputId": "b030007a-07c3-48e7-ee63-9d9d86876008"
      },
      "execution_count": null,
      "outputs": [
        {
          "output_type": "stream",
          "name": "stdout",
          "text": [
            "<class 'pandas.core.frame.DataFrame'>\n",
            "RangeIndex: 299 entries, 0 to 298\n",
            "Data columns (total 13 columns):\n",
            " #   Column                Non-Null Count  Dtype\n",
            "---  ------                --------------  -----\n",
            " 0   Umur                  299 non-null    int64\n",
            " 1   Anemia                299 non-null    int64\n",
            " 2   Kreatinin Kinase      299 non-null    int64\n",
            " 3   Diabetes              299 non-null    int64\n",
            " 4   Fraksi Ejeksi         299 non-null    int64\n",
            " 5   Tekanan Darah Tinggi  299 non-null    int64\n",
            " 6   Trombosit             299 non-null    int64\n",
            " 7   Kreatinin Serum       299 non-null    int64\n",
            " 8   Serum Sodium          299 non-null    int64\n",
            " 9   Jenis Kelamin         299 non-null    int64\n",
            " 10  Merokok               299 non-null    int64\n",
            " 11  Waktu                 299 non-null    int64\n",
            " 12  Kejadian Kematian     299 non-null    int64\n",
            "dtypes: int64(13)\n",
            "memory usage: 30.5 KB\n"
          ]
        }
      ]
    },
    {
      "cell_type": "code",
      "source": [
        "#KEMUDIAN DI LANGKAH INI KITA MENGECEK DATA DUPLIKAT\n",
        "df=df.drop_duplicates()\n",
        "df.info()"
      ],
      "metadata": {
        "colab": {
          "base_uri": "https://localhost:8080/"
        },
        "id": "77QK8EDm9SLV",
        "outputId": "2dd23f38-f0aa-448d-f149-b30304cd0a00"
      },
      "execution_count": null,
      "outputs": [
        {
          "output_type": "stream",
          "name": "stdout",
          "text": [
            "<class 'pandas.core.frame.DataFrame'>\n",
            "Int64Index: 299 entries, 0 to 298\n",
            "Data columns (total 13 columns):\n",
            " #   Column                Non-Null Count  Dtype\n",
            "---  ------                --------------  -----\n",
            " 0   Umur                  299 non-null    int64\n",
            " 1   Anemia                299 non-null    int64\n",
            " 2   Kreatinin Kinase      299 non-null    int64\n",
            " 3   Diabetes              299 non-null    int64\n",
            " 4   Fraksi Ejeksi         299 non-null    int64\n",
            " 5   Tekanan Darah Tinggi  299 non-null    int64\n",
            " 6   Trombosit             299 non-null    int64\n",
            " 7   Kreatinin Serum       299 non-null    int64\n",
            " 8   Serum Sodium          299 non-null    int64\n",
            " 9   Jenis Kelamin         299 non-null    int64\n",
            " 10  Merokok               299 non-null    int64\n",
            " 11  Waktu                 299 non-null    int64\n",
            " 12  Kejadian Kematian     299 non-null    int64\n",
            "dtypes: int64(13)\n",
            "memory usage: 32.7 KB\n"
          ]
        }
      ]
    },
    {
      "cell_type": "markdown",
      "source": [
        "Dan ternyata dari data diatas, ga ada data kita yanggg duplikat, dapat dilihat dari jumlah non null nya, full 299 sesuai jumlah baris nya"
      ],
      "metadata": {
        "id": "uzzLb5Qw9cMf"
      }
    },
    {
      "cell_type": "code",
      "source": [
        "# MELIHAT JUMLAH KELAS 0 DAN 1 DARI KOLOM KEJADIAN TENTANG KEMATIAN UNTUK NGELIAT ADA BERAPA YANG MATI DAN YANG TIDAK DARI KLASIFIKASI INI\n",
        "print(df['Kejadian Kematian'].value_counts())\n",
        "cls_0=df[df['Kejadian Kematian']==0]\n",
        "cls_1=df[df['Kejadian Kematian']==1]"
      ],
      "metadata": {
        "colab": {
          "base_uri": "https://localhost:8080/"
        },
        "id": "RUfn-wz_9oMu",
        "outputId": "00016aa5-65a9-4aa8-e894-d36d45233d1c"
      },
      "execution_count": null,
      "outputs": [
        {
          "output_type": "stream",
          "name": "stdout",
          "text": [
            "0    203\n",
            "1     96\n",
            "Name: Kejadian Kematian, dtype: int64\n"
          ]
        }
      ]
    },
    {
      "cell_type": "code",
      "source": [
        "# FEATURE ENGINEERING\n",
        "# MENAMBAH JUMLAH DATASET UNTUK MEMPERKUAT MODEL\n",
        "cls_0=cls_0.sample(500,replace=True)\n",
        "cls_1=cls_1.sample(500,replace=True)\n",
        "df=pd.concat([cls_0,cls_1], axis=0)\n",
        "df.info()"
      ],
      "metadata": {
        "colab": {
          "base_uri": "https://localhost:8080/"
        },
        "id": "i8u1wwKSAlTC",
        "outputId": "bfb8d21b-b33a-425b-ae3d-82e340d7a611"
      },
      "execution_count": null,
      "outputs": [
        {
          "output_type": "stream",
          "name": "stdout",
          "text": [
            "<class 'pandas.core.frame.DataFrame'>\n",
            "Int64Index: 1000 entries, 73 to 47\n",
            "Data columns (total 13 columns):\n",
            " #   Column                Non-Null Count  Dtype\n",
            "---  ------                --------------  -----\n",
            " 0   Umur                  1000 non-null   int64\n",
            " 1   Anemia                1000 non-null   int64\n",
            " 2   Kreatinin Kinase      1000 non-null   int64\n",
            " 3   Diabetes              1000 non-null   int64\n",
            " 4   Fraksi Ejeksi         1000 non-null   int64\n",
            " 5   Tekanan Darah Tinggi  1000 non-null   int64\n",
            " 6   Trombosit             1000 non-null   int64\n",
            " 7   Kreatinin Serum       1000 non-null   int64\n",
            " 8   Serum Sodium          1000 non-null   int64\n",
            " 9   Jenis Kelamin         1000 non-null   int64\n",
            " 10  Merokok               1000 non-null   int64\n",
            " 11  Waktu                 1000 non-null   int64\n",
            " 12  Kejadian Kematian     1000 non-null   int64\n",
            "dtypes: int64(13)\n",
            "memory usage: 109.4 KB\n"
          ]
        }
      ]
    },
    {
      "cell_type": "markdown",
      "source": [
        "Okay kita sudah nambahi dataset untuk memperkuat data model kitaaa. \n",
        "Sekarang kita masuk ke bagian missing value , dimana disini ngeliat apakah ada dataset kita yang kosong, menggunakan code dibawah iniii , cekidotttt :"
      ],
      "metadata": {
        "id": "Rxzlvhd-A2jF"
      }
    },
    {
      "cell_type": "code",
      "source": [
        "# MENGECEK APABILA TERDAPAT DATA TAK BERISI\n",
        "df.isnull().sum()"
      ],
      "metadata": {
        "colab": {
          "base_uri": "https://localhost:8080/"
        },
        "id": "SDoSwAsj-OgN",
        "outputId": "135d632a-64a8-4fc4-dff4-ea3af81cdbab"
      },
      "execution_count": null,
      "outputs": [
        {
          "output_type": "execute_result",
          "data": {
            "text/plain": [
              "Umur                    0\n",
              "Anemia                  0\n",
              "Kreatinin Kinase        0\n",
              "Diabetes                0\n",
              "Fraksi Ejeksi           0\n",
              "Tekanan Darah Tinggi    0\n",
              "Trombosit               0\n",
              "Kreatinin Serum         0\n",
              "Serum Sodium            0\n",
              "Jenis Kelamin           0\n",
              "Merokok                 0\n",
              "Waktu                   0\n",
              "Kejadian Kematian       0\n",
              "dtype: int64"
            ]
          },
          "metadata": {},
          "execution_count": 50
        }
      ]
    },
    {
      "cell_type": "markdown",
      "source": [
        "Berdasarkan hasil output diatas, kita dapat menyimpulkan, bahwa ga ada yang kosong yahhh, semua sudah pas."
      ],
      "metadata": {
        "id": "617DB1sd-RVK"
      }
    },
    {
      "cell_type": "code",
      "source": [
        "# MENGECEK DESKRIPSI DATASET\n",
        "df.describe()"
      ],
      "metadata": {
        "colab": {
          "base_uri": "https://localhost:8080/",
          "height": 358
        },
        "id": "XMdG4K5s-ZXQ",
        "outputId": "35937833-5972-47a3-bc12-f3d73fd3da24"
      },
      "execution_count": null,
      "outputs": [
        {
          "output_type": "execute_result",
          "data": {
            "text/plain": [
              "              Umur       Anemia  Kreatinin Kinase    Diabetes  Fraksi Ejeksi  \\\n",
              "count  1000.000000  1000.000000       1000.000000  1000.00000    1000.000000   \n",
              "mean     62.030000     0.428000        589.806000     0.42500      37.091000   \n",
              "std      12.112382     0.495036       1019.460888     0.49459      12.193827   \n",
              "min      40.000000     0.000000         23.000000     0.00000      14.000000   \n",
              "25%      52.000000     0.000000        129.000000     0.00000      30.000000   \n",
              "50%      60.000000     0.000000        258.000000     0.00000      35.000000   \n",
              "75%      70.000000     1.000000        582.000000     1.00000      45.000000   \n",
              "max      95.000000     1.000000       7861.000000     1.00000      80.000000   \n",
              "\n",
              "       Tekanan Darah Tinggi      Trombosit  Kreatinin Serum  Serum Sodium  \\\n",
              "count           1000.000000    1000.000000      1000.000000   1000.000000   \n",
              "mean               0.374000  260787.000000         1.095000    136.346000   \n",
              "std                0.484106   95556.351352         1.292147      4.437564   \n",
              "min                0.000000   25100.000000         0.000000    113.000000   \n",
              "25%                0.000000  210000.000000         1.000000    134.000000   \n",
              "50%                0.000000  263000.000000         1.000000    136.000000   \n",
              "75%                1.000000  305000.000000         1.000000    139.000000   \n",
              "max                1.000000  850000.000000         9.000000    148.000000   \n",
              "\n",
              "       Jenis Kelamin      Merokok        Waktu  Kejadian Kematian  \n",
              "count    1000.000000  1000.000000  1000.000000         1000.00000  \n",
              "mean        0.649000     0.308000   115.543000            0.50000  \n",
              "std         0.477522     0.461898    78.300045            0.50025  \n",
              "min         0.000000     0.000000     4.000000            0.00000  \n",
              "25%         0.000000     0.000000    43.000000            0.00000  \n",
              "50%         1.000000     0.000000   104.000000            0.50000  \n",
              "75%         1.000000     1.000000   187.000000            1.00000  \n",
              "max         1.000000     1.000000   285.000000            1.00000  "
            ],
            "text/html": [
              "\n",
              "  <div id=\"df-12221101-167d-4cc1-a6ee-67c799d4380a\">\n",
              "    <div class=\"colab-df-container\">\n",
              "      <div>\n",
              "<style scoped>\n",
              "    .dataframe tbody tr th:only-of-type {\n",
              "        vertical-align: middle;\n",
              "    }\n",
              "\n",
              "    .dataframe tbody tr th {\n",
              "        vertical-align: top;\n",
              "    }\n",
              "\n",
              "    .dataframe thead th {\n",
              "        text-align: right;\n",
              "    }\n",
              "</style>\n",
              "<table border=\"1\" class=\"dataframe\">\n",
              "  <thead>\n",
              "    <tr style=\"text-align: right;\">\n",
              "      <th></th>\n",
              "      <th>Umur</th>\n",
              "      <th>Anemia</th>\n",
              "      <th>Kreatinin Kinase</th>\n",
              "      <th>Diabetes</th>\n",
              "      <th>Fraksi Ejeksi</th>\n",
              "      <th>Tekanan Darah Tinggi</th>\n",
              "      <th>Trombosit</th>\n",
              "      <th>Kreatinin Serum</th>\n",
              "      <th>Serum Sodium</th>\n",
              "      <th>Jenis Kelamin</th>\n",
              "      <th>Merokok</th>\n",
              "      <th>Waktu</th>\n",
              "      <th>Kejadian Kematian</th>\n",
              "    </tr>\n",
              "  </thead>\n",
              "  <tbody>\n",
              "    <tr>\n",
              "      <th>count</th>\n",
              "      <td>1000.000000</td>\n",
              "      <td>1000.000000</td>\n",
              "      <td>1000.000000</td>\n",
              "      <td>1000.00000</td>\n",
              "      <td>1000.000000</td>\n",
              "      <td>1000.000000</td>\n",
              "      <td>1000.000000</td>\n",
              "      <td>1000.000000</td>\n",
              "      <td>1000.000000</td>\n",
              "      <td>1000.000000</td>\n",
              "      <td>1000.000000</td>\n",
              "      <td>1000.000000</td>\n",
              "      <td>1000.00000</td>\n",
              "    </tr>\n",
              "    <tr>\n",
              "      <th>mean</th>\n",
              "      <td>62.030000</td>\n",
              "      <td>0.428000</td>\n",
              "      <td>589.806000</td>\n",
              "      <td>0.42500</td>\n",
              "      <td>37.091000</td>\n",
              "      <td>0.374000</td>\n",
              "      <td>260787.000000</td>\n",
              "      <td>1.095000</td>\n",
              "      <td>136.346000</td>\n",
              "      <td>0.649000</td>\n",
              "      <td>0.308000</td>\n",
              "      <td>115.543000</td>\n",
              "      <td>0.50000</td>\n",
              "    </tr>\n",
              "    <tr>\n",
              "      <th>std</th>\n",
              "      <td>12.112382</td>\n",
              "      <td>0.495036</td>\n",
              "      <td>1019.460888</td>\n",
              "      <td>0.49459</td>\n",
              "      <td>12.193827</td>\n",
              "      <td>0.484106</td>\n",
              "      <td>95556.351352</td>\n",
              "      <td>1.292147</td>\n",
              "      <td>4.437564</td>\n",
              "      <td>0.477522</td>\n",
              "      <td>0.461898</td>\n",
              "      <td>78.300045</td>\n",
              "      <td>0.50025</td>\n",
              "    </tr>\n",
              "    <tr>\n",
              "      <th>min</th>\n",
              "      <td>40.000000</td>\n",
              "      <td>0.000000</td>\n",
              "      <td>23.000000</td>\n",
              "      <td>0.00000</td>\n",
              "      <td>14.000000</td>\n",
              "      <td>0.000000</td>\n",
              "      <td>25100.000000</td>\n",
              "      <td>0.000000</td>\n",
              "      <td>113.000000</td>\n",
              "      <td>0.000000</td>\n",
              "      <td>0.000000</td>\n",
              "      <td>4.000000</td>\n",
              "      <td>0.00000</td>\n",
              "    </tr>\n",
              "    <tr>\n",
              "      <th>25%</th>\n",
              "      <td>52.000000</td>\n",
              "      <td>0.000000</td>\n",
              "      <td>129.000000</td>\n",
              "      <td>0.00000</td>\n",
              "      <td>30.000000</td>\n",
              "      <td>0.000000</td>\n",
              "      <td>210000.000000</td>\n",
              "      <td>1.000000</td>\n",
              "      <td>134.000000</td>\n",
              "      <td>0.000000</td>\n",
              "      <td>0.000000</td>\n",
              "      <td>43.000000</td>\n",
              "      <td>0.00000</td>\n",
              "    </tr>\n",
              "    <tr>\n",
              "      <th>50%</th>\n",
              "      <td>60.000000</td>\n",
              "      <td>0.000000</td>\n",
              "      <td>258.000000</td>\n",
              "      <td>0.00000</td>\n",
              "      <td>35.000000</td>\n",
              "      <td>0.000000</td>\n",
              "      <td>263000.000000</td>\n",
              "      <td>1.000000</td>\n",
              "      <td>136.000000</td>\n",
              "      <td>1.000000</td>\n",
              "      <td>0.000000</td>\n",
              "      <td>104.000000</td>\n",
              "      <td>0.50000</td>\n",
              "    </tr>\n",
              "    <tr>\n",
              "      <th>75%</th>\n",
              "      <td>70.000000</td>\n",
              "      <td>1.000000</td>\n",
              "      <td>582.000000</td>\n",
              "      <td>1.00000</td>\n",
              "      <td>45.000000</td>\n",
              "      <td>1.000000</td>\n",
              "      <td>305000.000000</td>\n",
              "      <td>1.000000</td>\n",
              "      <td>139.000000</td>\n",
              "      <td>1.000000</td>\n",
              "      <td>1.000000</td>\n",
              "      <td>187.000000</td>\n",
              "      <td>1.00000</td>\n",
              "    </tr>\n",
              "    <tr>\n",
              "      <th>max</th>\n",
              "      <td>95.000000</td>\n",
              "      <td>1.000000</td>\n",
              "      <td>7861.000000</td>\n",
              "      <td>1.00000</td>\n",
              "      <td>80.000000</td>\n",
              "      <td>1.000000</td>\n",
              "      <td>850000.000000</td>\n",
              "      <td>9.000000</td>\n",
              "      <td>148.000000</td>\n",
              "      <td>1.000000</td>\n",
              "      <td>1.000000</td>\n",
              "      <td>285.000000</td>\n",
              "      <td>1.00000</td>\n",
              "    </tr>\n",
              "  </tbody>\n",
              "</table>\n",
              "</div>\n",
              "      <button class=\"colab-df-convert\" onclick=\"convertToInteractive('df-12221101-167d-4cc1-a6ee-67c799d4380a')\"\n",
              "              title=\"Convert this dataframe to an interactive table.\"\n",
              "              style=\"display:none;\">\n",
              "        \n",
              "  <svg xmlns=\"http://www.w3.org/2000/svg\" height=\"24px\"viewBox=\"0 0 24 24\"\n",
              "       width=\"24px\">\n",
              "    <path d=\"M0 0h24v24H0V0z\" fill=\"none\"/>\n",
              "    <path d=\"M18.56 5.44l.94 2.06.94-2.06 2.06-.94-2.06-.94-.94-2.06-.94 2.06-2.06.94zm-11 1L8.5 8.5l.94-2.06 2.06-.94-2.06-.94L8.5 2.5l-.94 2.06-2.06.94zm10 10l.94 2.06.94-2.06 2.06-.94-2.06-.94-.94-2.06-.94 2.06-2.06.94z\"/><path d=\"M17.41 7.96l-1.37-1.37c-.4-.4-.92-.59-1.43-.59-.52 0-1.04.2-1.43.59L10.3 9.45l-7.72 7.72c-.78.78-.78 2.05 0 2.83L4 21.41c.39.39.9.59 1.41.59.51 0 1.02-.2 1.41-.59l7.78-7.78 2.81-2.81c.8-.78.8-2.07 0-2.86zM5.41 20L4 18.59l7.72-7.72 1.47 1.35L5.41 20z\"/>\n",
              "  </svg>\n",
              "      </button>\n",
              "      \n",
              "  <style>\n",
              "    .colab-df-container {\n",
              "      display:flex;\n",
              "      flex-wrap:wrap;\n",
              "      gap: 12px;\n",
              "    }\n",
              "\n",
              "    .colab-df-convert {\n",
              "      background-color: #E8F0FE;\n",
              "      border: none;\n",
              "      border-radius: 50%;\n",
              "      cursor: pointer;\n",
              "      display: none;\n",
              "      fill: #1967D2;\n",
              "      height: 32px;\n",
              "      padding: 0 0 0 0;\n",
              "      width: 32px;\n",
              "    }\n",
              "\n",
              "    .colab-df-convert:hover {\n",
              "      background-color: #E2EBFA;\n",
              "      box-shadow: 0px 1px 2px rgba(60, 64, 67, 0.3), 0px 1px 3px 1px rgba(60, 64, 67, 0.15);\n",
              "      fill: #174EA6;\n",
              "    }\n",
              "\n",
              "    [theme=dark] .colab-df-convert {\n",
              "      background-color: #3B4455;\n",
              "      fill: #D2E3FC;\n",
              "    }\n",
              "\n",
              "    [theme=dark] .colab-df-convert:hover {\n",
              "      background-color: #434B5C;\n",
              "      box-shadow: 0px 1px 3px 1px rgba(0, 0, 0, 0.15);\n",
              "      filter: drop-shadow(0px 1px 2px rgba(0, 0, 0, 0.3));\n",
              "      fill: #FFFFFF;\n",
              "    }\n",
              "  </style>\n",
              "\n",
              "      <script>\n",
              "        const buttonEl =\n",
              "          document.querySelector('#df-12221101-167d-4cc1-a6ee-67c799d4380a button.colab-df-convert');\n",
              "        buttonEl.style.display =\n",
              "          google.colab.kernel.accessAllowed ? 'block' : 'none';\n",
              "\n",
              "        async function convertToInteractive(key) {\n",
              "          const element = document.querySelector('#df-12221101-167d-4cc1-a6ee-67c799d4380a');\n",
              "          const dataTable =\n",
              "            await google.colab.kernel.invokeFunction('convertToInteractive',\n",
              "                                                     [key], {});\n",
              "          if (!dataTable) return;\n",
              "\n",
              "          const docLinkHtml = 'Like what you see? Visit the ' +\n",
              "            '<a target=\"_blank\" href=https://colab.research.google.com/notebooks/data_table.ipynb>data table notebook</a>'\n",
              "            + ' to learn more about interactive tables.';\n",
              "          element.innerHTML = '';\n",
              "          dataTable['output_type'] = 'display_data';\n",
              "          await google.colab.output.renderOutput(dataTable, element);\n",
              "          const docLink = document.createElement('div');\n",
              "          docLink.innerHTML = docLinkHtml;\n",
              "          element.appendChild(docLink);\n",
              "        }\n",
              "      </script>\n",
              "    </div>\n",
              "  </div>\n",
              "  "
            ]
          },
          "metadata": {},
          "execution_count": 51
        }
      ]
    },
    {
      "cell_type": "code",
      "source": [
        "# MENGISI DATA KOSONG DENGAN NILAI RATA-RATA (MEAN)\n",
        "df.fillna(df.mean(), inplace= True)"
      ],
      "metadata": {
        "id": "zKMuhY-g-wH-"
      },
      "execution_count": null,
      "outputs": []
    },
    {
      "cell_type": "code",
      "source": [
        "# MELIHAT HASIL SETELAH DIISI TADI\n",
        "df.info()"
      ],
      "metadata": {
        "colab": {
          "base_uri": "https://localhost:8080/"
        },
        "id": "fV3G7f-b_Axl",
        "outputId": "744bd048-007a-41b4-b528-530fa89a51b4"
      },
      "execution_count": null,
      "outputs": [
        {
          "output_type": "stream",
          "name": "stdout",
          "text": [
            "<class 'pandas.core.frame.DataFrame'>\n",
            "Int64Index: 1000 entries, 73 to 47\n",
            "Data columns (total 13 columns):\n",
            " #   Column                Non-Null Count  Dtype\n",
            "---  ------                --------------  -----\n",
            " 0   Umur                  1000 non-null   int64\n",
            " 1   Anemia                1000 non-null   int64\n",
            " 2   Kreatinin Kinase      1000 non-null   int64\n",
            " 3   Diabetes              1000 non-null   int64\n",
            " 4   Fraksi Ejeksi         1000 non-null   int64\n",
            " 5   Tekanan Darah Tinggi  1000 non-null   int64\n",
            " 6   Trombosit             1000 non-null   int64\n",
            " 7   Kreatinin Serum       1000 non-null   int64\n",
            " 8   Serum Sodium          1000 non-null   int64\n",
            " 9   Jenis Kelamin         1000 non-null   int64\n",
            " 10  Merokok               1000 non-null   int64\n",
            " 11  Waktu                 1000 non-null   int64\n",
            " 12  Kejadian Kematian     1000 non-null   int64\n",
            "dtypes: int64(13)\n",
            "memory usage: 109.4 KB\n"
          ]
        }
      ]
    },
    {
      "cell_type": "markdown",
      "source": [
        "Okay setelah ini kita akan masuk ke bagian EDA, namun sebelumnya kita bisa hapus kolom yang ga berpengaruh untuk klasifikasi ini. Tapi sepertinya ga ada kolom yang perlu di buang, karena semua kolom mempengaruhi untuk hasil klasifikasi. Maka kita bisa lanjut ke EDA (Exploratory Data Analysis)"
      ],
      "metadata": {
        "id": "yELgN9TA_Mmk"
      }
    },
    {
      "cell_type": "markdown",
      "source": [
        "## DATA EXPLORATION PENGECEKAN KORELASI ANTAR **FITUR**"
      ],
      "metadata": {
        "id": "Dms3dswP_rc8"
      }
    },
    {
      "cell_type": "code",
      "source": [
        "#MEMBUAT TABEL KORELASI\n",
        "sns.heatmap(df.corr(),annot=True, cmap='terrain', linewidths=0.1)\n",
        "fig=plt.gcf()\n",
        "fig.set_size_inches(20,12)\n",
        "plt.show()"
      ],
      "metadata": {
        "colab": {
          "base_uri": "https://localhost:8080/",
          "height": 803
        },
        "id": "RhBFSHWp_tCx",
        "outputId": "bfa8ecdd-d3ae-46c9-8c3d-b3e2dddae339"
      },
      "execution_count": null,
      "outputs": [
        {
          "output_type": "display_data",
          "data": {
            "text/plain": [
              "<Figure size 1440x864 with 2 Axes>"
            ],
            "image/png": "[encoded data removed]"
          },
          "metadata": {
            "needs_background": "light"
          }
        }
      ]
    },
    {
      "cell_type": "markdown",
      "source": [
        "Untuk menjelaskan tabel diatas, lihat parameter di samping kanan, semakin dia ke atas atau semakin pudar warnanya makaaa semakin berkorelasi yang satu dengan yang lainnya"
      ],
      "metadata": {
        "id": "NWRTzLE9_xcM"
      }
    },
    {
      "cell_type": "code",
      "source": [
        "#PENGECEKAN OUTLIER\n",
        "df.boxplot(figsize=(20,12))"
      ],
      "metadata": {
        "colab": {
          "base_uri": "https://localhost:8080/",
          "height": 717
        },
        "id": "quTDXIsq_9gs",
        "outputId": "1860cd23-419f-42c0-8d7b-68f4026997fc"
      },
      "execution_count": null,
      "outputs": [
        {
          "output_type": "execute_result",
          "data": {
            "text/plain": [
              "<matplotlib.axes._subplots.AxesSubplot at 0x7fc0b690a5b0>"
            ]
          },
          "metadata": {},
          "execution_count": 55
        },
        {
          "output_type": "display_data",
          "data": {
            "text/plain": [
              "<Figure size 1440x864 with 1 Axes>"
            ],
            "image/png": "[encoded data removed]"
          },
          "metadata": {
            "needs_background": "light"
          }
        }
      ]
    },
    {
      "cell_type": "markdown",
      "source": [
        "Wahhhh, dari output diatas, bisa kita liatt yang berada di luar outlier itu ada di kolom kreatinin kinase, fraksi ejeksi, trombosit , kreatinin serum dan serum sodium. "
      ],
      "metadata": {
        "id": "2uEdiDarAHUQ"
      }
    },
    {
      "cell_type": "code",
      "source": [],
      "metadata": {
        "id": "xdDASDVfQLfb"
      },
      "execution_count": null,
      "outputs": []
    },
    {
      "cell_type": "code",
      "source": [
        "# PENGECEKAN PERSEBARAN DATA\n",
        "df.hist(figsize=(14,14))\n",
        "plt.show()"
      ],
      "metadata": {
        "colab": {
          "base_uri": "https://localhost:8080/",
          "height": 825
        },
        "id": "KwQd3EacAWEh",
        "outputId": "76b759c0-921d-401c-9160-03900ae899c9"
      },
      "execution_count": null,
      "outputs": [
        {
          "output_type": "display_data",
          "data": {
            "text/plain": [
              "<Figure size 1008x1008 with 16 Axes>"
            ],
            "image/png": "[encoded data removed]"
          },
          "metadata": {
            "needs_background": "light"
          }
        }
      ]
    },
    {
      "cell_type": "markdown",
      "source": [
        "KEMUDIAN SAAT INI KITA MULAI MASUK KE TEST UNTUK MENGUKUR AKURASI ALGORITMA YANG KITA GUNAKAN UNTUK KLASIFIKASI MENGGUNAKAN DATASET KITA. "
      ],
      "metadata": {
        "id": "4MqYwR2HBKP0"
      }
    },
    {
      "cell_type": "markdown",
      "source": [
        "## SPLITTING **TEST**"
      ],
      "metadata": {
        "id": "uaGN4MkpBhkJ"
      }
    },
    {
      "cell_type": "code",
      "source": [
        "X=df.drop(['Kejadian Kematian'],axis=1)\n",
        "Y=df['Kejadian Kematian']"
      ],
      "metadata": {
        "id": "-QxjLk6xBT82"
      },
      "execution_count": null,
      "outputs": []
    },
    {
      "cell_type": "code",
      "source": [
        "#FAKTOR YANG MEMPENGARUHI\n",
        "X.head()"
      ],
      "metadata": {
        "colab": {
          "base_uri": "https://localhost:8080/",
          "height": 204
        },
        "id": "xNE5lUN2Bs9U",
        "outputId": "c9726ef9-9ff4-4cb0-91a3-9d4b9fee1b23"
      },
      "execution_count": null,
      "outputs": [
        {
          "output_type": "execute_result",
          "data": {
            "text/plain": [
              "     Umur  Anemia  Kreatinin Kinase  Diabetes  Fraksi Ejeksi  \\\n",
              "73     65       0               224         1             50   \n",
              "137    68       1               646         0             25   \n",
              "278    50       1              1051         1             30   \n",
              "177    49       1                69         0             50   \n",
              "191    64       1                62         0             60   \n",
              "\n",
              "     Tekanan Darah Tinggi  Trombosit  Kreatinin Serum  Serum Sodium  \\\n",
              "73                      0     149000                1           137   \n",
              "137                     0     305000                2           130   \n",
              "278                     0     232000                0           136   \n",
              "177                     0     132000                1           140   \n",
              "191                     0     309000                1           135   \n",
              "\n",
              "     Jenis Kelamin  Merokok  Waktu  \n",
              "73               1        1     72  \n",
              "137              1        0    108  \n",
              "278              0        0    246  \n",
              "177              0        0    147  \n",
              "191              0        0    174  "
            ],
            "text/html": [
              "\n",
              "  <div id=\"df-1290403b-4485-4cc5-b9c8-0f0842316b2e\">\n",
              "    <div class=\"colab-df-container\">\n",
              "      <div>\n",
              "<style scoped>\n",
              "    .dataframe tbody tr th:only-of-type {\n",
              "        vertical-align: middle;\n",
              "    }\n",
              "\n",
              "    .dataframe tbody tr th {\n",
              "        vertical-align: top;\n",
              "    }\n",
              "\n",
              "    .dataframe thead th {\n",
              "        text-align: right;\n",
              "    }\n",
              "</style>\n",
              "<table border=\"1\" class=\"dataframe\">\n",
              "  <thead>\n",
              "    <tr style=\"text-align: right;\">\n",
              "      <th></th>\n",
              "      <th>Umur</th>\n",
              "      <th>Anemia</th>\n",
              "      <th>Kreatinin Kinase</th>\n",
              "      <th>Diabetes</th>\n",
              "      <th>Fraksi Ejeksi</th>\n",
              "      <th>Tekanan Darah Tinggi</th>\n",
              "      <th>Trombosit</th>\n",
              "      <th>Kreatinin Serum</th>\n",
              "      <th>Serum Sodium</th>\n",
              "      <th>Jenis Kelamin</th>\n",
              "      <th>Merokok</th>\n",
              "      <th>Waktu</th>\n",
              "    </tr>\n",
              "  </thead>\n",
              "  <tbody>\n",
              "    <tr>\n",
              "      <th>73</th>\n",
              "      <td>65</td>\n",
              "      <td>0</td>\n",
              "      <td>224</td>\n",
              "      <td>1</td>\n",
              "      <td>50</td>\n",
              "      <td>0</td>\n",
              "      <td>149000</td>\n",
              "      <td>1</td>\n",
              "      <td>137</td>\n",
              "      <td>1</td>\n",
              "      <td>1</td>\n",
              "      <td>72</td>\n",
              "    </tr>\n",
              "    <tr>\n",
              "      <th>137</th>\n",
              "      <td>68</td>\n",
              "      <td>1</td>\n",
              "      <td>646</td>\n",
              "      <td>0</td>\n",
              "      <td>25</td>\n",
              "      <td>0</td>\n",
              "      <td>305000</td>\n",
              "      <td>2</td>\n",
              "      <td>130</td>\n",
              "      <td>1</td>\n",
              "      <td>0</td>\n",
              "      <td>108</td>\n",
              "    </tr>\n",
              "    <tr>\n",
              "      <th>278</th>\n",
              "      <td>50</td>\n",
              "      <td>1</td>\n",
              "      <td>1051</td>\n",
              "      <td>1</td>\n",
              "      <td>30</td>\n",
              "      <td>0</td>\n",
              "      <td>232000</td>\n",
              "      <td>0</td>\n",
              "      <td>136</td>\n",
              "      <td>0</td>\n",
              "      <td>0</td>\n",
              "      <td>246</td>\n",
              "    </tr>\n",
              "    <tr>\n",
              "      <th>177</th>\n",
              "      <td>49</td>\n",
              "      <td>1</td>\n",
              "      <td>69</td>\n",
              "      <td>0</td>\n",
              "      <td>50</td>\n",
              "      <td>0</td>\n",
              "      <td>132000</td>\n",
              "      <td>1</td>\n",
              "      <td>140</td>\n",
              "      <td>0</td>\n",
              "      <td>0</td>\n",
              "      <td>147</td>\n",
              "    </tr>\n",
              "    <tr>\n",
              "      <th>191</th>\n",
              "      <td>64</td>\n",
              "      <td>1</td>\n",
              "      <td>62</td>\n",
              "      <td>0</td>\n",
              "      <td>60</td>\n",
              "      <td>0</td>\n",
              "      <td>309000</td>\n",
              "      <td>1</td>\n",
              "      <td>135</td>\n",
              "      <td>0</td>\n",
              "      <td>0</td>\n",
              "      <td>174</td>\n",
              "    </tr>\n",
              "  </tbody>\n",
              "</table>\n",
              "</div>\n",
              "      <button class=\"colab-df-convert\" onclick=\"convertToInteractive('df-1290403b-4485-4cc5-b9c8-0f0842316b2e')\"\n",
              "              title=\"Convert this dataframe to an interactive table.\"\n",
              "              style=\"display:none;\">\n",
              "        \n",
              "  <svg xmlns=\"http://www.w3.org/2000/svg\" height=\"24px\"viewBox=\"0 0 24 24\"\n",
              "       width=\"24px\">\n",
              "    <path d=\"M0 0h24v24H0V0z\" fill=\"none\"/>\n",
              "    <path d=\"M18.56 5.44l.94 2.06.94-2.06 2.06-.94-2.06-.94-.94-2.06-.94 2.06-2.06.94zm-11 1L8.5 8.5l.94-2.06 2.06-.94-2.06-.94L8.5 2.5l-.94 2.06-2.06.94zm10 10l.94 2.06.94-2.06 2.06-.94-2.06-.94-.94-2.06-.94 2.06-2.06.94z\"/><path d=\"M17.41 7.96l-1.37-1.37c-.4-.4-.92-.59-1.43-.59-.52 0-1.04.2-1.43.59L10.3 9.45l-7.72 7.72c-.78.78-.78 2.05 0 2.83L4 21.41c.39.39.9.59 1.41.59.51 0 1.02-.2 1.41-.59l7.78-7.78 2.81-2.81c.8-.78.8-2.07 0-2.86zM5.41 20L4 18.59l7.72-7.72 1.47 1.35L5.41 20z\"/>\n",
              "  </svg>\n",
              "      </button>\n",
              "      \n",
              "  <style>\n",
              "    .colab-df-container {\n",
              "      display:flex;\n",
              "      flex-wrap:wrap;\n",
              "      gap: 12px;\n",
              "    }\n",
              "\n",
              "    .colab-df-convert {\n",
              "      background-color: #E8F0FE;\n",
              "      border: none;\n",
              "      border-radius: 50%;\n",
              "      cursor: pointer;\n",
              "      display: none;\n",
              "      fill: #1967D2;\n",
              "      height: 32px;\n",
              "      padding: 0 0 0 0;\n",
              "      width: 32px;\n",
              "    }\n",
              "\n",
              "    .colab-df-convert:hover {\n",
              "      background-color: #E2EBFA;\n",
              "      box-shadow: 0px 1px 2px rgba(60, 64, 67, 0.3), 0px 1px 3px 1px rgba(60, 64, 67, 0.15);\n",
              "      fill: #174EA6;\n",
              "    }\n",
              "\n",
              "    [theme=dark] .colab-df-convert {\n",
              "      background-color: #3B4455;\n",
              "      fill: #D2E3FC;\n",
              "    }\n",
              "\n",
              "    [theme=dark] .colab-df-convert:hover {\n",
              "      background-color: #434B5C;\n",
              "      box-shadow: 0px 1px 3px 1px rgba(0, 0, 0, 0.15);\n",
              "      filter: drop-shadow(0px 1px 2px rgba(0, 0, 0, 0.3));\n",
              "      fill: #FFFFFF;\n",
              "    }\n",
              "  </style>\n",
              "\n",
              "      <script>\n",
              "        const buttonEl =\n",
              "          document.querySelector('#df-1290403b-4485-4cc5-b9c8-0f0842316b2e button.colab-df-convert');\n",
              "        buttonEl.style.display =\n",
              "          google.colab.kernel.accessAllowed ? 'block' : 'none';\n",
              "\n",
              "        async function convertToInteractive(key) {\n",
              "          const element = document.querySelector('#df-1290403b-4485-4cc5-b9c8-0f0842316b2e');\n",
              "          const dataTable =\n",
              "            await google.colab.kernel.invokeFunction('convertToInteractive',\n",
              "                                                     [key], {});\n",
              "          if (!dataTable) return;\n",
              "\n",
              "          const docLinkHtml = 'Like what you see? Visit the ' +\n",
              "            '<a target=\"_blank\" href=https://colab.research.google.com/notebooks/data_table.ipynb>data table notebook</a>'\n",
              "            + ' to learn more about interactive tables.';\n",
              "          element.innerHTML = '';\n",
              "          dataTable['output_type'] = 'display_data';\n",
              "          await google.colab.output.renderOutput(dataTable, element);\n",
              "          const docLink = document.createElement('div');\n",
              "          docLink.innerHTML = docLinkHtml;\n",
              "          element.appendChild(docLink);\n",
              "        }\n",
              "      </script>\n",
              "    </div>\n",
              "  </div>\n",
              "  "
            ]
          },
          "metadata": {},
          "execution_count": 58
        }
      ]
    },
    {
      "cell_type": "markdown",
      "source": [
        "Dari output diatas kita bisa lihat kalau Kolom Kejadian Kematian dah ga ada, karena di code sebelumnya kita dah buang si kejadian kematian karena dia ga bagian dari parameter untuk faktor yang mempengaruhi, karena dalam kata lain kejadian kematian ini seperti hasil akhir dari klasifikasi ini, untuk nantinya akan diberi tau apa yang paling mempengaruhi hasil akhir ini."
      ],
      "metadata": {
        "id": "tUlRJeqABuqv"
      }
    },
    {
      "cell_type": "code",
      "source": [
        "#import library data partitioning/splitting data dan konfigurasi\n",
        "from sklearn.model_selection import train_test_split\n",
        "from sklearn.metrics import accuracy_score\n",
        "\n",
        "X_train, X_test, Y_train, Y_test= train_test_split(X,Y, test_size=0.2, random_state=101,shuffle=True)"
      ],
      "metadata": {
        "id": "pdtAp963CNMW"
      },
      "execution_count": null,
      "outputs": []
    },
    {
      "cell_type": "code",
      "source": [
        "#import library algoritma SVM\n",
        "from sklearn import svm\n",
        "\n",
        "svmc =svm.SVC()\n",
        "svmc.fit(X_train,Y_train)\n",
        "\n",
        "Y_pred_svmc = svmc.predict(X_test)\n",
        "\n",
        "\n",
        "accuracy_svmc=accuracy_score(Y_test,Y_pred_svmc)*100\n",
        "accuracy_svmc\n",
        "\n"
      ],
      "metadata": {
        "colab": {
          "base_uri": "https://localhost:8080/"
        },
        "id": "UGcTRSvOCQ-L",
        "outputId": "3ca74baf-b419-4578-aa9f-e621ab050ccb"
      },
      "execution_count": null,
      "outputs": [
        {
          "output_type": "execute_result",
          "data": {
            "text/plain": [
              "49.0"
            ]
          },
          "metadata": {},
          "execution_count": 60
        }
      ]
    },
    {
      "cell_type": "code",
      "source": [
        "#Untuk ngecek apakah data kita bagus atau tidak\n",
        "#Jika diatas 90 maka itu bagus, kalau belum bagus harus melakukan tahap optimal untuk ngubah hasil accurancy nya\n",
        "print(\"accuracy on training set: {:.3f}\". format(svmc.score(X_train,Y_train)))\n",
        "print(\"accuracy on test set: {:.3f}\".format(svmc.score(X_test,Y_test)))"
      ],
      "metadata": {
        "colab": {
          "base_uri": "https://localhost:8080/"
        },
        "id": "G0rkIrQaCcHf",
        "outputId": "1d04f5b2-d085-49c1-e88e-d268847a74af"
      },
      "execution_count": null,
      "outputs": [
        {
          "output_type": "stream",
          "name": "stdout",
          "text": [
            "accuracy on training set: 0.552\n",
            "accuracy on test set: 0.490\n"
          ]
        }
      ]
    },
    {
      "cell_type": "markdown",
      "source": [
        "Ternyataaa duhhh sangat jauh kan yaaa, artinya dataset kita ga bagussss :(, Tapi coba kita coba pake algo lain."
      ],
      "metadata": {
        "id": "_ttNY4ImCe6G"
      }
    },
    {
      "cell_type": "code",
      "source": [
        "#import library algoritma Random Forest\n",
        "from sklearn.ensemble import RandomForestClassifier\n",
        "\n",
        "rf= RandomForestClassifier()\n",
        "rf.fit(X_train,Y_train)\n",
        "\n",
        "Y_pred_rf = rf.predict(X_test)\n",
        "\n",
        "accuracy_rf=accuracy_score(Y_test,Y_pred_rf)*100\n",
        "accuracy_rf"
      ],
      "metadata": {
        "colab": {
          "base_uri": "https://localhost:8080/"
        },
        "id": "RmEJkHOwDJe7",
        "outputId": "dfafbb76-a331-4f8c-8a2d-7bc0140f1f12"
      },
      "execution_count": null,
      "outputs": [
        {
          "output_type": "execute_result",
          "data": {
            "text/plain": [
              "100.0"
            ]
          },
          "metadata": {},
          "execution_count": 62
        }
      ]
    },
    {
      "cell_type": "code",
      "source": [
        "print(\"accuracy on training set: {:.3f}\". format(rf.score(X_train,Y_train)))\n",
        "print(\"accuracy on test set: {:.3f}\".format(rf.score(X_test,Y_test)))"
      ],
      "metadata": {
        "colab": {
          "base_uri": "https://localhost:8080/"
        },
        "id": "QlZTZbOMDbNu",
        "outputId": "083f3917-edd6-4db2-e261-5c58ea625c1d"
      },
      "execution_count": null,
      "outputs": [
        {
          "output_type": "stream",
          "name": "stdout",
          "text": [
            "accuracy on training set: 1.000\n",
            "accuracy on test set: 1.000\n"
          ]
        }
      ]
    },
    {
      "cell_type": "markdown",
      "source": [
        "Dari kesimpulan berdasarkan kedua algo diatas, meskipun datanya belum dioptimalkan, namun ternyata keakurasian menggunakan random forest mendekatu seratus yang mana berarti random bagus digunakan untuk klasifikasi sedangkan  SVM masih dibawah 90 , untuk mencoba memperbaiki accurancy nya kita bisa melakukan optimalisasi . YUKSSSSS MARII"
      ],
      "metadata": {
        "id": "KJwoKBRADYrx"
      }
    },
    {
      "cell_type": "markdown",
      "source": [
        "# **MODEL** **OPTIMALIZATION**"
      ],
      "metadata": {
        "id": "Awifnjb-D5Tf"
      }
    },
    {
      "cell_type": "markdown",
      "source": [
        "**OPTIMALISASI** **SVM**"
      ],
      "metadata": {
        "id": "BF_b74uNEGqK"
      }
    },
    {
      "cell_type": "code",
      "source": [
        "# IMPORT LIBRARY GRIDSEARCHCV UNTUK HYPER-PARAMETER TUNING\n",
        "from sklearn.model_selection import GridSearchCV\n",
        "  \n",
        "# DEKLARASI PARAMETER YANG AKAN DIPAKAI BESERTA VALUENYA\n",
        "param_grid = {'C': [0.1, 1, 10, 100, 1000], \n",
        "              'gamma': [1, 0.1, 0.01, 0.001, 0.0001],\n",
        "              'kernel': ['rbf']} \n",
        "\n",
        "# INISIALISASI HYPER-TUNING\n",
        "grid_svm = GridSearchCV(svm.SVC(), param_grid, refit = True, verbose = 3)\n",
        "  \n",
        "# FITTING MODEL SVM DENGAN HYPER TUNING\n",
        "grid_svm.fit(X_train, Y_train)"
      ],
      "metadata": {
        "id": "_DG4_J7DD3C8",
        "colab": {
          "base_uri": "https://localhost:8080/"
        },
        "outputId": "d1fea4b3-ded2-48a3-fbdf-a33c7d76bb97"
      },
      "execution_count": null,
      "outputs": [
        {
          "output_type": "stream",
          "name": "stdout",
          "text": [
            "Fitting 5 folds for each of 25 candidates, totalling 125 fits\n",
            "[CV 1/5] END ........C=0.1, gamma=1, kernel=rbf;, score=0.956 total time=   0.0s\n",
            "[CV 2/5] END ........C=0.1, gamma=1, kernel=rbf;, score=0.544 total time=   0.0s\n",
            "[CV 3/5] END ........C=0.1, gamma=1, kernel=rbf;, score=0.544 total time=   0.0s\n",
            "[CV 4/5] END ........C=0.1, gamma=1, kernel=rbf;, score=0.544 total time=   0.0s\n",
            "[CV 5/5] END ........C=0.1, gamma=1, kernel=rbf;, score=0.562 total time=   0.0s\n",
            "[CV 1/5] END ......C=0.1, gamma=0.1, kernel=rbf;, score=0.956 total time=   0.0s\n",
            "[CV 2/5] END ......C=0.1, gamma=0.1, kernel=rbf;, score=0.544 total time=   0.0s\n",
            "[CV 3/5] END ......C=0.1, gamma=0.1, kernel=rbf;, score=0.544 total time=   0.0s\n",
            "[CV 4/5] END ......C=0.1, gamma=0.1, kernel=rbf;, score=0.544 total time=   0.0s\n",
            "[CV 5/5] END ......C=0.1, gamma=0.1, kernel=rbf;, score=0.562 total time=   0.0s\n",
            "[CV 1/5] END .....C=0.1, gamma=0.01, kernel=rbf;, score=0.956 total time=   0.0s\n",
            "[CV 2/5] END .....C=0.1, gamma=0.01, kernel=rbf;, score=0.544 total time=   0.0s\n",
            "[CV 3/5] END .....C=0.1, gamma=0.01, kernel=rbf;, score=0.544 total time=   0.0s\n",
            "[CV 4/5] END .....C=0.1, gamma=0.01, kernel=rbf;, score=0.544 total time=   0.0s\n",
            "[CV 5/5] END .....C=0.1, gamma=0.01, kernel=rbf;, score=0.562 total time=   0.0s\n",
            "[CV 1/5] END ....C=0.1, gamma=0.001, kernel=rbf;, score=0.950 total time=   0.0s\n",
            "[CV 2/5] END ....C=0.1, gamma=0.001, kernel=rbf;, score=0.544 total time=   0.0s\n",
            "[CV 3/5] END ....C=0.1, gamma=0.001, kernel=rbf;, score=0.550 total time=   0.0s\n",
            "[CV 4/5] END ....C=0.1, gamma=0.001, kernel=rbf;, score=0.525 total time=   0.0s\n",
            "[CV 5/5] END ....C=0.1, gamma=0.001, kernel=rbf;, score=0.569 total time=   0.0s\n",
            "[CV 1/5] END ...C=0.1, gamma=0.0001, kernel=rbf;, score=0.931 total time=   0.0s\n",
            "[CV 2/5] END ...C=0.1, gamma=0.0001, kernel=rbf;, score=0.556 total time=   0.0s\n",
            "[CV 3/5] END ...C=0.1, gamma=0.0001, kernel=rbf;, score=0.544 total time=   0.0s\n",
            "[CV 4/5] END ...C=0.1, gamma=0.0001, kernel=rbf;, score=0.537 total time=   0.0s\n",
            "[CV 5/5] END ...C=0.1, gamma=0.0001, kernel=rbf;, score=0.556 total time=   0.0s\n",
            "[CV 1/5] END ..........C=1, gamma=1, kernel=rbf;, score=0.988 total time=   0.0s\n",
            "[CV 2/5] END ..........C=1, gamma=1, kernel=rbf;, score=0.994 total time=   0.0s\n",
            "[CV 3/5] END ..........C=1, gamma=1, kernel=rbf;, score=0.969 total time=   0.0s\n",
            "[CV 4/5] END ..........C=1, gamma=1, kernel=rbf;, score=0.994 total time=   0.0s\n",
            "[CV 5/5] END ..........C=1, gamma=1, kernel=rbf;, score=0.981 total time=   0.0s\n",
            "[CV 1/5] END ........C=1, gamma=0.1, kernel=rbf;, score=0.988 total time=   0.0s\n",
            "[CV 2/5] END ........C=1, gamma=0.1, kernel=rbf;, score=0.994 total time=   0.0s\n",
            "[CV 3/5] END ........C=1, gamma=0.1, kernel=rbf;, score=0.969 total time=   0.0s\n",
            "[CV 4/5] END ........C=1, gamma=0.1, kernel=rbf;, score=0.994 total time=   0.0s\n",
            "[CV 5/5] END ........C=1, gamma=0.1, kernel=rbf;, score=0.981 total time=   0.0s\n",
            "[CV 1/5] END .......C=1, gamma=0.01, kernel=rbf;, score=0.988 total time=   0.0s\n",
            "[CV 2/5] END .......C=1, gamma=0.01, kernel=rbf;, score=0.994 total time=   0.0s\n",
            "[CV 3/5] END .......C=1, gamma=0.01, kernel=rbf;, score=0.969 total time=   0.0s\n",
            "[CV 4/5] END .......C=1, gamma=0.01, kernel=rbf;, score=0.994 total time=   0.0s\n",
            "[CV 5/5] END .......C=1, gamma=0.01, kernel=rbf;, score=0.981 total time=   0.0s\n",
            "[CV 1/5] END ......C=1, gamma=0.001, kernel=rbf;, score=0.981 total time=   0.0s\n",
            "[CV 2/5] END ......C=1, gamma=0.001, kernel=rbf;, score=0.994 total time=   0.0s\n",
            "[CV 3/5] END ......C=1, gamma=0.001, kernel=rbf;, score=0.956 total time=   0.0s\n",
            "[CV 4/5] END ......C=1, gamma=0.001, kernel=rbf;, score=0.994 total time=   0.0s\n",
            "[CV 5/5] END ......C=1, gamma=0.001, kernel=rbf;, score=0.981 total time=   0.0s\n",
            "[CV 1/5] END .....C=1, gamma=0.0001, kernel=rbf;, score=0.969 total time=   0.0s\n",
            "[CV 2/5] END .....C=1, gamma=0.0001, kernel=rbf;, score=0.981 total time=   0.0s\n",
            "[CV 3/5] END .....C=1, gamma=0.0001, kernel=rbf;, score=0.944 total time=   0.0s\n",
            "[CV 4/5] END .....C=1, gamma=0.0001, kernel=rbf;, score=0.963 total time=   0.0s\n",
            "[CV 5/5] END .....C=1, gamma=0.0001, kernel=rbf;, score=0.975 total time=   0.0s\n",
            "[CV 1/5] END .........C=10, gamma=1, kernel=rbf;, score=0.988 total time=   0.0s\n",
            "[CV 2/5] END .........C=10, gamma=1, kernel=rbf;, score=0.994 total time=   0.0s\n",
            "[CV 3/5] END .........C=10, gamma=1, kernel=rbf;, score=0.969 total time=   0.0s\n",
            "[CV 4/5] END .........C=10, gamma=1, kernel=rbf;, score=0.994 total time=   0.0s\n",
            "[CV 5/5] END .........C=10, gamma=1, kernel=rbf;, score=0.981 total time=   0.0s\n",
            "[CV 1/5] END .......C=10, gamma=0.1, kernel=rbf;, score=0.988 total time=   0.0s\n",
            "[CV 2/5] END .......C=10, gamma=0.1, kernel=rbf;, score=0.994 total time=   0.0s\n",
            "[CV 3/5] END .......C=10, gamma=0.1, kernel=rbf;, score=0.969 total time=   0.0s\n",
            "[CV 4/5] END .......C=10, gamma=0.1, kernel=rbf;, score=0.994 total time=   0.0s\n",
            "[CV 5/5] END .......C=10, gamma=0.1, kernel=rbf;, score=0.981 total time=   0.0s\n",
            "[CV 1/5] END ......C=10, gamma=0.01, kernel=rbf;, score=0.988 total time=   0.0s\n",
            "[CV 2/5] END ......C=10, gamma=0.01, kernel=rbf;, score=0.994 total time=   0.0s\n",
            "[CV 3/5] END ......C=10, gamma=0.01, kernel=rbf;, score=0.969 total time=   0.0s\n",
            "[CV 4/5] END ......C=10, gamma=0.01, kernel=rbf;, score=0.994 total time=   0.0s\n",
            "[CV 5/5] END ......C=10, gamma=0.01, kernel=rbf;, score=0.981 total time=   0.0s\n",
            "[CV 1/5] END .....C=10, gamma=0.001, kernel=rbf;, score=0.994 total time=   0.0s\n",
            "[CV 2/5] END .....C=10, gamma=0.001, kernel=rbf;, score=0.994 total time=   0.0s\n",
            "[CV 3/5] END .....C=10, gamma=0.001, kernel=rbf;, score=0.969 total time=   0.0s\n",
            "[CV 4/5] END .....C=10, gamma=0.001, kernel=rbf;, score=0.994 total time=   0.0s\n",
            "[CV 5/5] END .....C=10, gamma=0.001, kernel=rbf;, score=0.981 total time=   0.0s\n",
            "[CV 1/5] END ....C=10, gamma=0.0001, kernel=rbf;, score=0.981 total time=   0.0s\n",
            "[CV 2/5] END ....C=10, gamma=0.0001, kernel=rbf;, score=0.994 total time=   0.0s\n",
            "[CV 3/5] END ....C=10, gamma=0.0001, kernel=rbf;, score=0.956 total time=   0.0s\n",
            "[CV 4/5] END ....C=10, gamma=0.0001, kernel=rbf;, score=0.981 total time=   0.0s\n",
            "[CV 5/5] END ....C=10, gamma=0.0001, kernel=rbf;, score=0.988 total time=   0.0s\n",
            "[CV 1/5] END ........C=100, gamma=1, kernel=rbf;, score=0.988 total time=   0.0s\n",
            "[CV 2/5] END ........C=100, gamma=1, kernel=rbf;, score=0.994 total time=   0.0s\n",
            "[CV 3/5] END ........C=100, gamma=1, kernel=rbf;, score=0.969 total time=   0.0s\n",
            "[CV 4/5] END ........C=100, gamma=1, kernel=rbf;, score=0.994 total time=   0.0s\n",
            "[CV 5/5] END ........C=100, gamma=1, kernel=rbf;, score=0.981 total time=   0.0s\n",
            "[CV 1/5] END ......C=100, gamma=0.1, kernel=rbf;, score=0.988 total time=   0.0s\n",
            "[CV 2/5] END ......C=100, gamma=0.1, kernel=rbf;, score=0.994 total time=   0.0s\n",
            "[CV 3/5] END ......C=100, gamma=0.1, kernel=rbf;, score=0.969 total time=   0.0s\n",
            "[CV 4/5] END ......C=100, gamma=0.1, kernel=rbf;, score=0.994 total time=   0.0s\n",
            "[CV 5/5] END ......C=100, gamma=0.1, kernel=rbf;, score=0.981 total time=   0.0s\n",
            "[CV 1/5] END .....C=100, gamma=0.01, kernel=rbf;, score=0.988 total time=   0.0s\n",
            "[CV 2/5] END .....C=100, gamma=0.01, kernel=rbf;, score=0.994 total time=   0.0s\n",
            "[CV 3/5] END .....C=100, gamma=0.01, kernel=rbf;, score=0.969 total time=   0.0s\n",
            "[CV 4/5] END .....C=100, gamma=0.01, kernel=rbf;, score=0.994 total time=   0.0s\n",
            "[CV 5/5] END .....C=100, gamma=0.01, kernel=rbf;, score=0.981 total time=   0.0s\n",
            "[CV 1/5] END ....C=100, gamma=0.001, kernel=rbf;, score=0.994 total time=   0.0s\n",
            "[CV 2/5] END ....C=100, gamma=0.001, kernel=rbf;, score=0.994 total time=   0.0s\n",
            "[CV 3/5] END ....C=100, gamma=0.001, kernel=rbf;, score=0.969 total time=   0.0s\n",
            "[CV 4/5] END ....C=100, gamma=0.001, kernel=rbf;, score=0.994 total time=   0.0s\n",
            "[CV 5/5] END ....C=100, gamma=0.001, kernel=rbf;, score=0.981 total time=   0.0s\n",
            "[CV 1/5] END ...C=100, gamma=0.0001, kernel=rbf;, score=0.994 total time=   0.0s\n",
            "[CV 2/5] END ...C=100, gamma=0.0001, kernel=rbf;, score=0.994 total time=   0.0s\n",
            "[CV 3/5] END ...C=100, gamma=0.0001, kernel=rbf;, score=0.969 total time=   0.0s\n",
            "[CV 4/5] END ...C=100, gamma=0.0001, kernel=rbf;, score=0.981 total time=   0.0s\n",
            "[CV 5/5] END ...C=100, gamma=0.0001, kernel=rbf;, score=0.988 total time=   0.0s\n",
            "[CV 1/5] END .......C=1000, gamma=1, kernel=rbf;, score=0.988 total time=   0.0s\n",
            "[CV 2/5] END .......C=1000, gamma=1, kernel=rbf;, score=0.994 total time=   0.0s\n",
            "[CV 3/5] END .......C=1000, gamma=1, kernel=rbf;, score=0.969 total time=   0.0s\n",
            "[CV 4/5] END .......C=1000, gamma=1, kernel=rbf;, score=0.994 total time=   0.0s\n",
            "[CV 5/5] END .......C=1000, gamma=1, kernel=rbf;, score=0.981 total time=   0.0s\n",
            "[CV 1/5] END .....C=1000, gamma=0.1, kernel=rbf;, score=0.988 total time=   0.0s\n",
            "[CV 2/5] END .....C=1000, gamma=0.1, kernel=rbf;, score=0.994 total time=   0.0s\n",
            "[CV 3/5] END .....C=1000, gamma=0.1, kernel=rbf;, score=0.969 total time=   0.0s\n",
            "[CV 4/5] END .....C=1000, gamma=0.1, kernel=rbf;, score=0.994 total time=   0.0s\n",
            "[CV 5/5] END .....C=1000, gamma=0.1, kernel=rbf;, score=0.981 total time=   0.0s\n",
            "[CV 1/5] END ....C=1000, gamma=0.01, kernel=rbf;, score=0.988 total time=   0.0s\n",
            "[CV 2/5] END ....C=1000, gamma=0.01, kernel=rbf;, score=0.994 total time=   0.0s\n",
            "[CV 3/5] END ....C=1000, gamma=0.01, kernel=rbf;, score=0.969 total time=   0.0s\n",
            "[CV 4/5] END ....C=1000, gamma=0.01, kernel=rbf;, score=0.994 total time=   0.0s\n",
            "[CV 5/5] END ....C=1000, gamma=0.01, kernel=rbf;, score=0.981 total time=   0.0s\n",
            "[CV 1/5] END ...C=1000, gamma=0.001, kernel=rbf;, score=0.994 total time=   0.0s\n",
            "[CV 2/5] END ...C=1000, gamma=0.001, kernel=rbf;, score=0.994 total time=   0.0s\n",
            "[CV 3/5] END ...C=1000, gamma=0.001, kernel=rbf;, score=0.969 total time=   0.0s\n",
            "[CV 4/5] END ...C=1000, gamma=0.001, kernel=rbf;, score=0.994 total time=   0.0s\n",
            "[CV 5/5] END ...C=1000, gamma=0.001, kernel=rbf;, score=0.981 total time=   0.0s\n",
            "[CV 1/5] END ..C=1000, gamma=0.0001, kernel=rbf;, score=0.994 total time=   0.0s\n",
            "[CV 2/5] END ..C=1000, gamma=0.0001, kernel=rbf;, score=0.994 total time=   0.0s\n",
            "[CV 3/5] END ..C=1000, gamma=0.0001, kernel=rbf;, score=0.969 total time=   0.0s\n",
            "[CV 4/5] END ..C=1000, gamma=0.0001, kernel=rbf;, score=0.981 total time=   0.0s\n",
            "[CV 5/5] END ..C=1000, gamma=0.0001, kernel=rbf;, score=0.988 total time=   0.0s\n"
          ]
        },
        {
          "output_type": "execute_result",
          "data": {
            "text/plain": [
              "GridSearchCV(estimator=SVC(),\n",
              "             param_grid={'C': [0.1, 1, 10, 100, 1000],\n",
              "                         'gamma': [1, 0.1, 0.01, 0.001, 0.0001],\n",
              "                         'kernel': ['rbf']},\n",
              "             verbose=3)"
            ]
          },
          "metadata": {},
          "execution_count": 64
        }
      ]
    },
    {
      "cell_type": "code",
      "source": [
        "# PARAMETER TERBAIK SVM DALAM STUDI KASUS INI\n",
        "print(\"Parameter Terbaik Setelah Tuning :\\n\", grid_svm.best_params_)\n",
        "print(\"Model Setelah Hyper-Parameter Tuning :\\n\", grid_svm.best_estimator_)"
      ],
      "metadata": {
        "colab": {
          "base_uri": "https://localhost:8080/"
        },
        "id": "T_2_y7LrF6c0",
        "outputId": "ec4ab26e-af72-4aee-d74c-5b91c174e0af"
      },
      "execution_count": null,
      "outputs": [
        {
          "output_type": "stream",
          "name": "stdout",
          "text": [
            "Parameter Terbaik Setelah Tuning :\n",
            " {'C': 10, 'gamma': 0.001, 'kernel': 'rbf'}\n",
            "Model Setelah Hyper-Parameter Tuning :\n",
            " SVC(C=10, gamma=0.001)\n"
          ]
        }
      ]
    },
    {
      "cell_type": "code",
      "source": [
        "# MELAKUKAN PREDIKSI DENGAN MODEL HYPER-PARAMETER\n",
        "y_pred_grid_svm = grid_svm.predict(X_test)"
      ],
      "metadata": {
        "id": "jSpOpF2-F9j_"
      },
      "execution_count": null,
      "outputs": []
    },
    {
      "cell_type": "code",
      "source": [
        "# MELIHAT AKURASI MODEL SETELAH DI OPTIMALISASI\n",
        "accuracy_grid_svmc = accuracy_score(Y_test,y_pred_grid_svm)*100\n",
        "accuracy_grid_svmc"
      ],
      "metadata": {
        "colab": {
          "base_uri": "https://localhost:8080/"
        },
        "id": "Br_IfQFhGBS7",
        "outputId": "9f000124-8e5c-40a0-b040-f943b39cbbd6"
      },
      "execution_count": null,
      "outputs": [
        {
          "output_type": "execute_result",
          "data": {
            "text/plain": [
              "98.5"
            ]
          },
          "metadata": {},
          "execution_count": 67
        }
      ]
    },
    {
      "cell_type": "markdown",
      "source": [
        "YEYYYYYY SUDAH BAGUS ACCURACY NYAAAAAAAAA SETELAH DI OPTIMALISASI"
      ],
      "metadata": {
        "id": "5wtaCyU1GF2v"
      }
    },
    {
      "cell_type": "code",
      "source": [
        "#LALU MASUK KE MODEL EVALUATION\n",
        "\n",
        "# IMPORT LIBRARY EVALUATION\n",
        "from sklearn.metrics import confusion_matrix, ConfusionMatrixDisplay\n",
        "from sklearn.metrics import roc_curve, roc_auc_score\n",
        "from sklearn.metrics import classification_report"
      ],
      "metadata": {
        "id": "JYOOsZy1Gpe6"
      },
      "execution_count": null,
      "outputs": []
    },
    {
      "cell_type": "code",
      "source": [
        "# MEMBUAT CONFUSION MATRIX ALGO SVM\n",
        "grid_svm_matrix = confusion_matrix(Y_test, y_pred_grid_svm)\n",
        "\n",
        "# VISUALISASI CONFUSION MATRIX ALGO SVM\n",
        "sns.heatmap(grid_svm_matrix, annot=True)"
      ],
      "metadata": {
        "colab": {
          "base_uri": "https://localhost:8080/",
          "height": 282
        },
        "id": "MIY5u3yuGxGl",
        "outputId": "1e24ca16-7c5d-4744-feac-3986b2d26687"
      },
      "execution_count": null,
      "outputs": [
        {
          "output_type": "execute_result",
          "data": {
            "text/plain": [
              "<matplotlib.axes._subplots.AxesSubplot at 0x7fc0b8a7f6d0>"
            ]
          },
          "metadata": {},
          "execution_count": 69
        },
        {
          "output_type": "display_data",
          "data": {
            "text/plain": [
              "<Figure size 432x288 with 2 Axes>"
            ],
            "image/png": "[encoded data removed]"
          },
          "metadata": {
            "needs_background": "light"
          }
        }
      ]
    },
    {
      "cell_type": "code",
      "source": [
        "# MEMBUAT CLASSIFICATION REPORT MODEL SVM\n",
        "print(classification_report(y_pred_grid_svm, Y_test))"
      ],
      "metadata": {
        "colab": {
          "base_uri": "https://localhost:8080/"
        },
        "id": "2KyuhYWHG4mw",
        "outputId": "935f3004-3d4d-4a79-d12e-dc1a0a6e031c"
      },
      "execution_count": null,
      "outputs": [
        {
          "output_type": "stream",
          "name": "stdout",
          "text": [
            "              precision    recall  f1-score   support\n",
            "\n",
            "           0       1.00      0.97      0.99       102\n",
            "           1       0.97      1.00      0.98        98\n",
            "\n",
            "    accuracy                           0.98       200\n",
            "   macro avg       0.99      0.99      0.98       200\n",
            "weighted avg       0.99      0.98      0.99       200\n",
            "\n"
          ]
        }
      ]
    },
    {
      "cell_type": "markdown",
      "source": [],
      "metadata": {
        "id": "Yn2apZdhAVmU"
      }
    },
    {
      "cell_type": "code",
      "source": [
        "# MEMBUAT CONFUSION MATRIX ALGO RANDOM FOREST\n",
        "grid_rf_matrix = confusion_matrix(Y_test, Y_pred_rf)\n",
        "\n",
        "# VISUALISASI CONFUSION MATRIX ALGO RANDOM FOREST\n",
        "sns.heatmap(grid_rf_matrix, annot=True)"
      ],
      "metadata": {
        "colab": {
          "base_uri": "https://localhost:8080/",
          "height": 284
        },
        "id": "82-5J72fG9d-",
        "outputId": "1a8d6a83-ea3c-4327-9f93-d9b3b8b96c94"
      },
      "execution_count": null,
      "outputs": [
        {
          "output_type": "execute_result",
          "data": {
            "text/plain": [
              "<matplotlib.axes._subplots.AxesSubplot at 0x7fc0b4d48820>"
            ]
          },
          "metadata": {},
          "execution_count": 71
        },
        {
          "output_type": "display_data",
          "data": {
            "text/plain": [
              "<Figure size 432x288 with 2 Axes>"
            ],
            "image/png": "[encoded data removed]"
          },
          "metadata": {
            "needs_background": "light"
          }
        }
      ]
    },
    {
      "cell_type": "code",
      "source": [
        "# MEMBUAT CLASSIFICATION REPORT ALGO RANDOM FOREST\n",
        "print(classification_report(Y_pred_rf, Y_test))"
      ],
      "metadata": {
        "colab": {
          "base_uri": "https://localhost:8080/"
        },
        "id": "7g6KK9dYHT8Z",
        "outputId": "f1cb4eca-c731-46ab-f671-fa7891335dd3"
      },
      "execution_count": null,
      "outputs": [
        {
          "output_type": "stream",
          "name": "stdout",
          "text": [
            "              precision    recall  f1-score   support\n",
            "\n",
            "           0       1.00      1.00      1.00        99\n",
            "           1       1.00      1.00      1.00       101\n",
            "\n",
            "    accuracy                           1.00       200\n",
            "   macro avg       1.00      1.00      1.00       200\n",
            "weighted avg       1.00      1.00      1.00       200\n",
            "\n"
          ]
        }
      ]
    },
    {
      "cell_type": "markdown",
      "source": [
        "For your information, model evaluation ini untuk nentuin classification report nya lohhhh, dan tentu ada rumus manual nyaaaa gaesss. \n",
        "\n",
        "Nah di model evaluation itu ada TP, TN, FP, FN. \n",
        "\n",
        "Rumus untuk manual nentuin precission, recall, f1-score dan accurancy nya adalah ini :\n",
        "https://stevkarta.medium.com/membicarakan-precision-recall-dan-f1-score-e96d81910354 (Link Penjelasan Model Evaluation dan Rumus mencari itu tadi) \n",
        "\n",
        "Sekian dan Thank youuuuu"
      ],
      "metadata": {
        "id": "l6-xrFY6HgHR"
      }
    },
    {
      "cell_type": "code",
      "source": [],
      "metadata": {
        "id": "i4G91Y2qH8Lr"
      },
      "execution_count": null,
      "outputs": []
    }
  ]
}